{
 "cells": [
  {
   "cell_type": "code",
   "execution_count": 1,
   "id": "01cbd944",
   "metadata": {},
   "outputs": [],
   "source": [
    "import mysql.connector as connector\n",
    "from mysql.connector import Error"
   ]
  },
  {
   "cell_type": "markdown",
   "id": "e58c3040",
   "metadata": {},
   "source": [
    "## Connect and create database"
   ]
  },
  {
   "cell_type": "code",
   "execution_count": 2,
   "id": "b9bcd91f",
   "metadata": {
    "scrolled": true
   },
   "outputs": [
    {
     "name": "stdout",
     "output_type": "stream",
     "text": [
      "MySQL is connected\n",
      "Database university is created\n"
     ]
    }
   ],
   "source": [
    "DB_NAME = \"university\"\n",
    "\n",
    "try:\n",
    "    db = connector.connect(host = \"localhost\", user = \"root\", password = \"maftuh2003\")\n",
    "\n",
    "    if db.is_connected():\n",
    "        print(\"MySQL is connected\")\n",
    "        cursor = db.cursor()\n",
    "\n",
    "        cursor.execute(\"CREATE DATABASE \" + DB_NAME)\n",
    "        print(\"Database\", DB_NAME, \"is created\")\n",
    "        db.database = DB_NAME\n",
    "\n",
    "except Error as e:\n",
    "    print(\"Error while connecting to MySQL\", e)"
   ]
  },
  {
   "cell_type": "markdown",
   "id": "e48edc92",
   "metadata": {},
   "source": [
    "## Create tables"
   ]
  },
  {
   "cell_type": "code",
   "execution_count": 3,
   "id": "f5b3929e",
   "metadata": {
    "scrolled": true
   },
   "outputs": [
    {
     "name": "stdout",
     "output_type": "stream",
     "text": [
      "Tables are created\n"
     ]
    }
   ],
   "source": [
    "ddl_path = \"DDL.sql\"\n",
    "\n",
    "with open(ddl_path, 'r') as file:\n",
    "    query = file.read()\n",
    "    try:\n",
    "        cursor.execute(query)\n",
    "        print(\"Tables are created\")\n",
    "    except Error as e:\n",
    "        print(\"Error while connecting to MySQL\", e)"
   ]
  },
  {
   "cell_type": "markdown",
   "id": "d3d2c153",
   "metadata": {},
   "source": [
    "## Insert Data"
   ]
  },
  {
   "cell_type": "code",
   "execution_count": 4,
   "id": "4d72510d",
   "metadata": {},
   "outputs": [],
   "source": [
    "data_path = \"data/smallRelationsInsertFile.sql\"\n",
    "try:\n",
    "    with open(data_path, 'r') as file:\n",
    "        query = file.read()\n",
    "\n",
    "    cursor.execute(query)\n",
    "    db.commit()\n",
    "    print(\"Insert data success\")\n",
    "\n",
    "except Error as e:\n",
    "    print(\"Error while connecting to MySQL\", e)"
   ]
  },
  {
   "cell_type": "code",
   "execution_count": null,
   "id": "ccd01a54",
   "metadata": {},
   "outputs": [],
   "source": []
  }
 ],
 "metadata": {
  "kernelspec": {
   "display_name": "Python 3 (ipykernel)",
   "language": "python",
   "name": "python3"
  },
  "language_info": {
   "codemirror_mode": {
    "name": "ipython",
    "version": 3
   },
   "file_extension": ".py",
   "mimetype": "text/x-python",
   "name": "python",
   "nbconvert_exporter": "python",
   "pygments_lexer": "ipython3",
   "version": "3.8.8"
  }
 },
 "nbformat": 4,
 "nbformat_minor": 5
}
